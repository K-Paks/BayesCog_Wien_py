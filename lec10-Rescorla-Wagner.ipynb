{
 "cells": [
  {
   "cell_type": "code",
   "execution_count": 1,
   "id": "367f1812",
   "metadata": {},
   "outputs": [],
   "source": [
    "%config IPCompleter.greedy=True\n",
    "%config Completer.use_jedi = False"
   ]
  },
  {
   "cell_type": "code",
   "execution_count": 2,
   "id": "supreme-cyprus",
   "metadata": {},
   "outputs": [
    {
     "name": "stderr",
     "output_type": "stream",
     "text": [
      "WARNING (theano.tensor.blas): Using NumPy C-API based implementation for BLAS functions.\n"
     ]
    }
   ],
   "source": [
    "from os.path import join\n",
    "\n",
    "import pymc3 as pm\n",
    "from theano import tensor as tt, printing\n",
    "import theano\n",
    "\n",
    "import pandas as pd\n",
    "import numpy as np\n",
    "import seaborn as sns\n",
    "import matplotlib.pyplot as plt"
   ]
  },
  {
   "cell_type": "markdown",
   "id": "4d834e95",
   "metadata": {},
   "source": [
    "### Warm-up: softmax in theano"
   ]
  },
  {
   "cell_type": "code",
   "execution_count": 3,
   "id": "458a0e9b",
   "metadata": {},
   "outputs": [],
   "source": [
    "# declare variables and softmax\n",
    "v = tt.vector('v', dtype='float32')\n",
    "tau = tt.scalar('tau')\n",
    "softmax = 1 / (1 + tt.exp(tau * (v[1] - v[0])))\n",
    "\n",
    "func = theano.function([tau, v], [softmax])"
   ]
  },
  {
   "cell_type": "code",
   "execution_count": 4,
   "id": "6b648e0f",
   "metadata": {},
   "outputs": [
    {
     "data": {
      "image/png": "[encoded data removed]",
      "text/plain": [
       "<Figure size 432x288 with 1 Axes>"
      ]
     },
     "metadata": {
      "needs_background": "light"
     },
     "output_type": "display_data"
    }
   ],
   "source": [
    "# run softmax for a couple of dummy \n",
    "res = []\n",
    "va = 1.0\n",
    "vb_values = np.linspace(-5, 5)\n",
    "tau = 0.9\n",
    "\n",
    "for v_ in [(va, x) for x in vb_values]:\n",
    "    v = np.asarray(v_, dtype=np.float32)\n",
    "    out = func(tau, v)\n",
    "    res.append(out[0])\n",
    "plt.plot(vb_values, res)\n",
    "plt.show()"
   ]
  },
  {
   "cell_type": "markdown",
   "id": "6374cab7",
   "metadata": {},
   "source": [
    "### Modeling"
   ]
  },
  {
   "cell_type": "code",
   "execution_count": 51,
   "id": "a278fcb8",
   "metadata": {},
   "outputs": [],
   "source": [
    "rl_mp = {}\n",
    "df = pd.read_csv(join('_data', 'rl_mp.csv'))\n",
    "choice = df.iloc[:, :100].values - 1\n",
    "reward = df.iloc[:, 100:].values\n",
    "\n",
    "nSubjects, nTrials = choice.shape"
   ]
  },
  {
   "cell_type": "code",
   "execution_count": 52,
   "id": "b70e17cd",
   "metadata": {},
   "outputs": [
    {
     "data": {
      "text/plain": [
       "array([[-1,  1, -1, -1, -1],\n",
       "       [ 1, -1, -1, -1, -1],\n",
       "       [-1,  1, -1, -1,  1],\n",
       "       [-1, -1, -1,  1, -1],\n",
       "       [-1,  1, -1, -1, -1]], dtype=int64)"
      ]
     },
     "execution_count": 52,
     "metadata": {},
     "output_type": "execute_result"
    }
   ],
   "source": [
    "reward[:5, :5]"
   ]
  },
  {
   "cell_type": "code",
   "execution_count": 53,
   "id": "b4a86d64",
   "metadata": {},
   "outputs": [],
   "source": [
    "nIter = 1000\n",
    "nChains = 4\n",
    "nWarmup = 1000"
   ]
  },
  {
   "cell_type": "code",
   "execution_count": 54,
   "id": "f605510b",
   "metadata": {},
   "outputs": [
    {
     "data": {
      "text/plain": [
       "-10"
      ]
     },
     "execution_count": 54,
     "metadata": {},
     "output_type": "execute_result"
    }
   ],
   "source": [
    "choice[0] @ reward[0]"
   ]
  },
  {
   "cell_type": "code",
   "execution_count": 59,
   "id": "24177246",
   "metadata": {},
   "outputs": [],
   "source": [
    "choice_1 = choice[0]\n",
    "reward_1 = reward[1]\n"
   ]
  },
  {
   "cell_type": "code",
   "execution_count": 118,
   "id": "d51610ed",
   "metadata": {},
   "outputs": [
    {
     "data": {
      "text/plain": [
       "array([0., 0., 0., 0., 5., 5., 5., 5., 5., 5., 5.])"
      ]
     },
     "execution_count": 118,
     "metadata": {},
     "output_type": "execute_result"
    }
   ],
   "source": [
    "r = tt.as_tensor_variable(np.zeros(11), 'r')\n",
    "new_r = tt.set_subtensor(r[4:], 5)\n",
    "theano.function([], new_r)()"
   ]
  },
  {
   "cell_type": "code",
   "execution_count": 119,
   "id": "e3e64012",
   "metadata": {},
   "outputs": [
    {
     "data": {
      "text/plain": [
       "array([1., 2.])"
      ]
     },
     "execution_count": 119,
     "metadata": {},
     "output_type": "execute_result"
    }
   ],
   "source": [
    "test = tt.as_tensor_variable([0.1, 0.3], 'test')\n",
    "test = tt.set_subtensor(test[:], [1, 2])\n",
    "f = theano.function([], test)\n",
    "f()"
   ]
  },
  {
   "cell_type": "code",
   "execution_count": 105,
   "id": "5199810c",
   "metadata": {},
   "outputs": [
    {
     "name": "stdout",
     "output_type": "stream",
     "text": [
      "[0 1]\n"
     ]
    },
    {
     "data": {
      "text/plain": [
       "1"
      ]
     },
     "execution_count": 105,
     "metadata": {},
     "output_type": "execute_result"
    }
   ],
   "source": [
    "a = np.random.multinomial(1, [0.4, 0.6])\n",
    "print(a)\n",
    "np.argmax(a)\n"
   ]
  },
  {
   "cell_type": "code",
   "execution_count": 133,
   "id": "2530cd1e",
   "metadata": {},
   "outputs": [
    {
     "name": "stdout",
     "output_type": "stream",
     "text": [
      "0\n",
      "0\n"
     ]
    }
   ],
   "source": [
    "from theano.tensor.nnet import softmax\n",
    "\n",
    "v_ = np.array([0, 0])\n",
    "# v = tt.as_tensor_variable(v_, 'v')\n",
    "# pe = tt.as_tensor_variablnnet(np.zeros, 'pe')\n",
    "\n",
    "def run(ch, rew, v_prev, alpha, tau):   \n",
    "    p = tt.argmax(softmax(tau * v_prev))\n",
    "#     ch = pm.Categorical.dist(p)\n",
    "    \n",
    "    pe = rew - v_prev[p]\n",
    "    v_new = tt.set_subtensor(v_prev[:], v_prev[p] + alpha * pe)\n",
    "    \n",
    "    return v_new\n",
    "\n",
    "ch = tt.as_tensor_variable(choice_1, 'ch')\n",
    "rew = tt.as_tensor_variable(reward_1, 'rew')\n",
    "\n",
    "with pm.Model() as model:\n",
    "    alpha = pm.Uniform('alpha', 0, 1)\n",
    "    tau = pm.Uniform('tau', 0, 10)\n",
    "\n",
    "    res, _ = theano.scan(fn=run,\n",
    "                        sequences=[ch, rew],\n",
    "                        outputs_info=dict(initial=v_),\n",
    "                        non_sequences=[alpha, tau])"
   ]
  },
  {
   "cell_type": "code",
   "execution_count": null,
   "id": "a3207116",
   "metadata": {},
   "outputs": [
    {
     "name": "stderr",
     "output_type": "stream",
     "text": [
      "<ipython-input-137-2aa39882eb00>:2: FutureWarning: In v4.0, pm.sample will return an `arviz.InferenceData` object instead of a `MultiTrace` by default. You can pass return_inferencedata=True or return_inferencedata=False to be safe and silence this warning.\n",
      "  trace = pm.sample(nIter, tune=nWarmup)\n",
      "Auto-assigning NUTS sampler...\n",
      "Initializing NUTS using jitter+adapt_diag...\n",
      "Multiprocess sampling (4 chains in 4 jobs)\n",
      "NUTS: [tau, alpha]\n"
     ]
    }
   ],
   "source": [
    "with model:\n",
    "    trace = pm.sample(nIter, tune=nWarmup)"
   ]
  },
  {
   "cell_type": "code",
   "execution_count": null,
   "id": "220fc32e",
   "metadata": {},
   "outputs": [],
   "source": [
    "with model:\n",
    "    pm.plot_trace(trace)"
   ]
  },
  {
   "cell_type": "code",
   "execution_count": 24,
   "id": "02cd9f93",
   "metadata": {
    "scrolled": true
   },
   "outputs": [
    {
     "name": "stdout",
     "output_type": "stream",
     "text": [
      "choice[t]\n",
      "reward[t]\n",
      "0\n",
      "[array([-10, -22, -31, -41, -44, -49, -55, -64, -72, -82], dtype=int64)]\n"
     ]
    }
   ],
   "source": [
    "def func(ch, rw, v_prev):\n",
    "    print(ch)\n",
    "    print(rw)\n",
    "#     print(tt_a)\n",
    "#     print(tt_t)\n",
    "    v_f = ch.dot(rw) + v_prev\n",
    "    v_f \n",
    "    print(v_f.ndim)\n",
    "    return v_f #v_f\n",
    "    \n",
    "with pm.Model() as model:\n",
    "    # pm3\n",
    "#     alpha = pm.Uniform('alpha', 0, 1, shape=10)\n",
    "#     tau = pm.Uniform('tau', 0, 10)\n",
    "    \n",
    "    # tt\n",
    "    v0 = tt.as_tensor_variable(np.zeros(1, dtype=np.int64)[0], 'v0')\n",
    "    tt_a = tt.as_tensor_variable(alpha, 'tt_a')\n",
    "#     tt_t = tt.as_tensor_variable(tau, 'tt_t')\n",
    "    \n",
    "    tt_choice = tt.as_tensor_variable(choice, 'choice')\n",
    "    tt_reward = tt.as_tensor_variable(reward, 'reward')\n",
    "    x = tt.as_tensor_variable(nTrials, 'nTrials')\n",
    "\n",
    "    results, updates = theano.scan(\n",
    "                    fn=func,\n",
    "                    sequences=[tt_choice, tt_reward],\n",
    "                    outputs_info=dict(initial=v0),\n",
    "                    non_sequences=None,\n",
    "                    n_steps=x\n",
    "                )\n",
    "    fout = theano.function(inputs=[], outputs=[results], allow_input_downcast=True)\n",
    "    print(fout())"
   ]
  },
  {
   "cell_type": "code",
   "execution_count": 68,
   "id": "41ebbc27",
   "metadata": {
    "scrolled": true
   },
   "outputs": [
    {
     "data": {
      "text/plain": [
       "[array([-10, -22, -31, -41, -44, -49, -55, -64, -72, -82], dtype=int64)]"
      ]
     },
     "execution_count": 68,
     "metadata": {},
     "output_type": "execute_result"
    }
   ],
   "source": [
    "def func(ch, rw, v_prev):\n",
    "    v_f = ch.dot(rw) + v_prev\n",
    "    return v_f\n",
    "    \n",
    "v0 = tt.as_tensor_variable(v0_, 'v0')\n",
    "\n",
    "tt_choice = tt.as_tensor_variable(choice, 'choice')\n",
    "tt_reward = tt.as_tensor_variable(reward, 'reward')\n",
    "x = tt.as_tensor_variable(nTrials, 'nTrials')\n",
    "\n",
    "results, updates = theano.scan(\n",
    "                fn=func,\n",
    "                outputs_info=dict(initial=v0),\n",
    "                sequences=[tt_choice, tt_reward],\n",
    "                n_steps=x\n",
    "            )\n",
    "fout = theano.function(inputs=[], outputs=[results])\n",
    "fout()"
   ]
  },
  {
   "cell_type": "code",
   "execution_count": 7,
   "id": "70bb9b1f",
   "metadata": {},
   "outputs": [
    {
     "name": "stdout",
     "output_type": "stream",
     "text": [
      "[2 2 3 2 2 2 0 2 0 2 2 3 2 2 2 2 0 2 2 2 2 1 3 2 1 0 0 0 2 2 2 2 2 2 2 2 2\n",
      " 2 2 1 2 1 2 2 3 2 2 1 2 2 1 3 2 1 2 2 1 1 3 2 3 2 2 1 2 2 2 2 2 2 2 1 1 1\n",
      " 2 2 2 2 1 2 2 0 3 2 2 1 2 2 0 1 2 2 2 2 2 1 2 2 1 2 1 2 1 0 2 2 2 2 0 1 2\n",
      " 1 1 2 0 2 2 1 1 0 1 2 2 2 2 2 0 2 2 2 0 2 2 2 2 2 3 1 0 2 2 1 2 1 2 0 1 3\n",
      " 2 2 2 1 1 1 0 2 3 2 0 3 1 2 3 2 2 1 3 2 2 2 0 2 2 3 2 2 3 2 3 2 2 2 2 2 2\n",
      " 3 2 2 2 1 2 2 2 2 2 2 2 2 2 3 2 2 2 2 1 0 2 2 1 2 0 0 2 2 2 0 2 3 2 2 2 2\n",
      " 2 2 2 2 0 2 2 3 2 1 2 0 2 2 2 2 2 2 1 2 2 2 2 2 2 3 2 2 2 2 1 2 3 3 2 3 2\n",
      " 1 2 2 3 2 2 0 2 1 2 2 0 3 2 2 2 3 2 2 2 2 2 2 1 2 0 3 2 2 0 1 0 1 2 2 2 2\n",
      " 1 1 0 2 2 2 0 2 2 2 0 1 2 2 2 0 2 2 1 2 2 2 1 2 2 2 1 0 2 2 2 0 2 0 2 1 1\n",
      " 1 2 2 2 1 2 2 2 1 2 2 2 2 2 2 1 3 2 2 2 2 1 2 2 2 1 2 2 3 2 3 0 0 2 2 0 2\n",
      " 0 1 2 2 0 1 3 2 0 0 2 2 1 2 1 2 1 0 0 3 2 2 1 1 3 2 2 2 3 1 2 3 0 2 1 0 2\n",
      " 2 2 2 1 2 2 1 2 3 2 2 3 2 2 2 2 2 1 1 2 2 2 3 2 1 2 2 2 2 2 2 2 1 2 2 2 2\n",
      " 0 1 2 1 1 2 2 0 2 2 2 2 2 0 2 3 2 2 2 2 2 1 2 2 2 2 2 2 3 3 2 3 1 2 0 1 1\n",
      " 2 3 2 2 2 0 2 2 2 3 2 2 2 2 0 2 2 3 1 3 2 2 1 1 0 2 2 2 1 2 1 2 2 2 2 1 1\n",
      " 2 2 2 0 1 2 2 1 0 2 2 2 2 1 3 1 2 2 2 0 2 0 1 1 3 2 1 1 1 2 2 0 1 0 2 3 3\n",
      " 2 2 2 2 2 1 1 1 2 2 2 0 2 3 3 2 0 2 2 2 2 2 3 2 1 1 3 2 3 1 2 1 1 2 1 2 2\n",
      " 2 0 2 1 0 1 2 3 2 2 1 1 3 2 3 2 2 2 0 2 2 3 2 2 2 2 3 2 2 1 2 2 2 2 3 2 2\n",
      " 0 2 2 2 2 2 2 2 2 2 2 2 1 1 2 2 2 1 1 2 2 3 2 3 2 2 1 1 2 1 3 2 2 2 3 0 1\n",
      " 0 2 1 2 3 2 1 3 2 2 2 1 1 2 2 2 1 2 2 2 1 2 2 2 2 2 0 2 2 2 2 2 3 3 2 3 2\n",
      " 2 2 2 2 2 1 2 2 2 2 2 1 0 2 2 1 0 1 0 0 2 2 2 1 1 3 2 1 3 2 2 3 1 1 0 1 2\n",
      " 1 2 0 0 1 0 2 2 2 2 1 2 2 3 1 2 0 2 2 2 2 0 1 2 2 1 2 3 2 2 2 2 1 1 1 2 3\n",
      " 2 2 3 2 2 2 0 2 2 1 3 2 1 2 2 2 2 2 1 2 2 2 2 2 2 0 2 2 2 2 2 2 2 2 2 2 2\n",
      " 3 0 2 2 2 2 1 2 2 2 3 2 1 1 2 0 2 2 2 2 2 0 2 2 2 2 0 2 1 0 3 2 2 0 2 1 2\n",
      " 1 2 3 3 2 2 2 2 3 2 1 1 1 3 3 2 2 2 3 1 2 2 2 2 2 2 0 1 2 2 2 2 1 1 3 2 2\n",
      " 1 1 1 0 2 3 2 2 2 1 2 2 2 2 2 2 2 2 2 2 0 2 2 2 0 2 2 3 3 0 2 2 2 2 1 2 0\n",
      " 2 2 2 2 1 2 1 2 3 2 2 2 0 2 2 2 3 2 3 1 2 2 2 2 2 2 3 1 2 2 1 1 2 1 2 1 2\n",
      " 1 0 2 1 3 2 0 2 2 2 2 0 2 1 2 2 2 2 2 2 2 2 2 1 1 2 1 1 2 3 0 2 2 2 1 2 1\n",
      " 2]\n"
     ]
    },
    {
     "name": "stderr",
     "output_type": "stream",
     "text": [
      "<ipython-input-7-fdea902ca53c>:14: FutureWarning: In v4.0, pm.sample will return an `arviz.InferenceData` object instead of a `MultiTrace` by default. You can pass return_inferencedata=True or return_inferencedata=False to be safe and silence this warning.\n",
      "  trace = pm.sample(draws=10000, tune=2000)\n",
      "Auto-assigning NUTS sampler...\n",
      "Initializing NUTS using jitter+adapt_diag...\n",
      "Multiprocess sampling (4 chains in 4 jobs)\n",
      "NUTS: [p3, p2, p1, p0]\n"
     ]
    },
    {
     "data": {
      "text/html": [
       "\n",
       "    <div>\n",
       "        <style>\n",
       "            /* Turns off some styling */\n",
       "            progress {\n",
       "                /* gets rid of default border in Firefox and Opera. */\n",
       "                border: none;\n",
       "                /* Needs to be in here for Safari polyfill so background images work as expected. */\n",
       "                background-size: auto;\n",
       "            }\n",
       "            .progress-bar-interrupted, .progress-bar-interrupted::-webkit-progress-bar {\n",
       "                background: #F44336;\n",
       "            }\n",
       "        </style>\n",
       "      <progress value='48000' class='' max='48000' style='width:300px; height:20px; vertical-align: middle;'></progress>\n",
       "      100.00% [48000/48000 00:39<00:00 Sampling 4 chains, 5,117 divergences]\n",
       "    </div>\n",
       "    "
      ],
      "text/plain": [
       "<IPython.core.display.HTML object>"
      ]
     },
     "metadata": {},
     "output_type": "display_data"
    },
    {
     "name": "stderr",
     "output_type": "stream",
     "text": [
      "Sampling 4 chains for 2_000 tune and 10_000 draw iterations (8_000 + 40_000 draws total) took 72 seconds.\n",
      "There were 1079 divergences after tuning. Increase `target_accept` or reparameterize.\n",
      "The acceptance probability does not match the target. It is 0.616802262073676, but should be close to 0.8. Try to increase the number of tuning steps.\n",
      "There were 1172 divergences after tuning. Increase `target_accept` or reparameterize.\n",
      "The acceptance probability does not match the target. It is 0.6110554083739226, but should be close to 0.8. Try to increase the number of tuning steps.\n",
      "There were 1897 divergences after tuning. Increase `target_accept` or reparameterize.\n",
      "The acceptance probability does not match the target. It is 0.5394305207995533, but should be close to 0.8. Try to increase the number of tuning steps.\n",
      "There were 969 divergences after tuning. Increase `target_accept` or reparameterize.\n",
      "The acceptance probability does not match the target. It is 0.6417874103297261, but should be close to 0.8. Try to increase the number of tuning steps.\n",
      "The estimated number of effective samples is smaller than 200 for some parameters.\n"
     ]
    },
    {
     "ename": "TypeError",
     "evalue": "DeprecationWarning() takes no keyword arguments",
     "output_type": "error",
     "traceback": [
      "\u001b[1;31m---------------------------------------------------------------------------\u001b[0m",
      "\u001b[1;31mTypeError\u001b[0m                                 Traceback (most recent call last)",
      "\u001b[1;32m<ipython-input-7-fdea902ca53c>\u001b[0m in \u001b[0;36m<module>\u001b[1;34m\u001b[0m\n\u001b[0;32m     14\u001b[0m     \u001b[0mtrace\u001b[0m \u001b[1;33m=\u001b[0m \u001b[0mpm\u001b[0m\u001b[1;33m.\u001b[0m\u001b[0msample\u001b[0m\u001b[1;33m(\u001b[0m\u001b[0mdraws\u001b[0m\u001b[1;33m=\u001b[0m\u001b[1;36m10000\u001b[0m\u001b[1;33m,\u001b[0m \u001b[0mtune\u001b[0m\u001b[1;33m=\u001b[0m\u001b[1;36m2000\u001b[0m\u001b[1;33m)\u001b[0m\u001b[1;33m\u001b[0m\u001b[1;33m\u001b[0m\u001b[0m\n\u001b[0;32m     15\u001b[0m \u001b[1;33m\u001b[0m\u001b[0m\n\u001b[1;32m---> 16\u001b[1;33m \u001b[0mpm\u001b[0m\u001b[1;33m.\u001b[0m\u001b[0mtraceplot\u001b[0m\u001b[1;33m(\u001b[0m\u001b[0mtrace\u001b[0m\u001b[1;33m,\u001b[0m \u001b[0mvarnames\u001b[0m\u001b[1;33m=\u001b[0m\u001b[1;33m[\u001b[0m\u001b[1;34m'p'\u001b[0m\u001b[1;33m]\u001b[0m\u001b[1;33m,\u001b[0m \u001b[0mlines\u001b[0m\u001b[1;33m=\u001b[0m\u001b[0mdict\u001b[0m\u001b[1;33m(\u001b[0m\u001b[0mp\u001b[0m\u001b[1;33m=\u001b[0m\u001b[0mpreal\u001b[0m\u001b[1;33m)\u001b[0m\u001b[1;33m)\u001b[0m\u001b[1;33m\u001b[0m\u001b[1;33m\u001b[0m\u001b[0m\n\u001b[0m",
      "\u001b[1;32mD:\\py-related\\anaconda\\envs\\mypm3env\\lib\\site-packages\\pymc3\\plots\\__init__.py\u001b[0m in \u001b[0;36mwrapped\u001b[1;34m(*args, **kwargs)\u001b[0m\n\u001b[0;32m     36\u001b[0m     \u001b[1;32mdef\u001b[0m \u001b[0mwrapped\u001b[0m\u001b[1;33m(\u001b[0m\u001b[1;33m*\u001b[0m\u001b[0margs\u001b[0m\u001b[1;33m,\u001b[0m \u001b[1;33m**\u001b[0m\u001b[0mkwargs\u001b[0m\u001b[1;33m)\u001b[0m\u001b[1;33m:\u001b[0m\u001b[1;33m\u001b[0m\u001b[1;33m\u001b[0m\u001b[0m\n\u001b[0;32m     37\u001b[0m         \u001b[1;32mif\u001b[0m \u001b[1;34m\"varnames\"\u001b[0m \u001b[1;32min\u001b[0m \u001b[0mkwargs\u001b[0m\u001b[1;33m:\u001b[0m\u001b[1;33m\u001b[0m\u001b[1;33m\u001b[0m\u001b[0m\n\u001b[1;32m---> 38\u001b[1;33m             raise DeprecationWarning(\n\u001b[0m\u001b[0;32m     39\u001b[0m                 \u001b[1;34mf\"The `varnames` kwarg was renamed to `var_names`.\"\u001b[0m\u001b[1;33m,\u001b[0m \u001b[0mstacklevel\u001b[0m\u001b[1;33m=\u001b[0m\u001b[1;36m2\u001b[0m\u001b[1;33m\u001b[0m\u001b[1;33m\u001b[0m\u001b[0m\n\u001b[0;32m     40\u001b[0m             )\n",
      "\u001b[1;31mTypeError\u001b[0m: DeprecationWarning() takes no keyword arguments"
     ]
    }
   ],
   "source": [
    "preal = [0.1, 0.2, 0.6, 0.1]\n",
    "y = np.random.choice(4, 1000, p=preal)\n",
    "print(y)\n",
    "with pm.Model():\n",
    "    probs = []\n",
    "    for k in range(4):\n",
    "        _p = pm.Beta(name='p%i' % k, alpha=1, beta=1)\n",
    "        probs.append(_p)\n",
    "\n",
    "    p = tt.stack(probs)\n",
    "    p1 = pm.Deterministic('p', p/p.sum())\n",
    "    pm.Categorical(name='y', p=p1, observed=y)\n",
    "\n",
    "    trace = pm.sample(draws=10000, tune=2000)\n",
    "\n",
    "pm.traceplot(trace, varnames=['p'], lines=dict(p=preal))"
   ]
  },
  {
   "cell_type": "code",
   "execution_count": 121,
   "id": "61ed2bbf",
   "metadata": {},
   "outputs": [],
   "source": [
    "def softmax(tau, v):\n",
    "    p1 = 1 / (1 + tt.exp(v[1] - v[0]))\n",
    "    p2 = 1 - p1\n",
    "    return tt.stack([p1, p2])"
   ]
  },
  {
   "cell_type": "code",
   "execution_count": 128,
   "id": "5920bc6a",
   "metadata": {},
   "outputs": [],
   "source": [
    "pe = {}"
   ]
  },
  {
   "cell_type": "code",
   "execution_count": 137,
   "id": "91eac023",
   "metadata": {},
   "outputs": [
    {
     "data": {
      "text/plain": [
       "array([0, 0, 0, 0, 0, 0, 0, 0, 0, 0])"
      ]
     },
     "execution_count": 137,
     "metadata": {},
     "output_type": "execute_result"
    }
   ],
   "source": [
    "v[choice[t]].tag.test_value"
   ]
  },
  {
   "cell_type": "code",
   "execution_count": 145,
   "id": "de33b953",
   "metadata": {},
   "outputs": [
    {
     "ename": "AttributeError",
     "evalue": "'str' object has no attribute 'items'",
     "output_type": "error",
     "traceback": [
      "\u001b[1;31m---------------------------------------------------------------------------\u001b[0m",
      "\u001b[1;31mAttributeError\u001b[0m                            Traceback (most recent call last)",
      "\u001b[1;32m<ipython-input-145-5e1077c4824c>\u001b[0m in \u001b[0;36m<module>\u001b[1;34m\u001b[0m\n\u001b[0;32m      1\u001b[0m \u001b[1;32mwith\u001b[0m \u001b[0mmodel\u001b[0m\u001b[1;33m:\u001b[0m\u001b[1;33m\u001b[0m\u001b[1;33m\u001b[0m\u001b[0m\n\u001b[1;32m----> 2\u001b[1;33m     \u001b[0mpm\u001b[0m\u001b[1;33m.\u001b[0m\u001b[0mset_data\u001b[0m\u001b[1;33m(\u001b[0m\u001b[1;34m'v'\u001b[0m\u001b[1;33m)\u001b[0m\u001b[1;33m\u001b[0m\u001b[1;33m\u001b[0m\u001b[0m\n\u001b[0m",
      "\u001b[1;32mD:\\py-related\\anaconda\\envs\\mypm3env\\lib\\site-packages\\pymc3\\model.py\u001b[0m in \u001b[0;36mset_data\u001b[1;34m(new_data, model)\u001b[0m\n\u001b[0;32m   1468\u001b[0m     \u001b[0mmodel\u001b[0m \u001b[1;33m=\u001b[0m \u001b[0mmodelcontext\u001b[0m\u001b[1;33m(\u001b[0m\u001b[0mmodel\u001b[0m\u001b[1;33m)\u001b[0m\u001b[1;33m\u001b[0m\u001b[1;33m\u001b[0m\u001b[0m\n\u001b[0;32m   1469\u001b[0m \u001b[1;33m\u001b[0m\u001b[0m\n\u001b[1;32m-> 1470\u001b[1;33m     \u001b[1;32mfor\u001b[0m \u001b[0mvariable_name\u001b[0m\u001b[1;33m,\u001b[0m \u001b[0mnew_value\u001b[0m \u001b[1;32min\u001b[0m \u001b[0mnew_data\u001b[0m\u001b[1;33m.\u001b[0m\u001b[0mitems\u001b[0m\u001b[1;33m(\u001b[0m\u001b[1;33m)\u001b[0m\u001b[1;33m:\u001b[0m\u001b[1;33m\u001b[0m\u001b[1;33m\u001b[0m\u001b[0m\n\u001b[0m\u001b[0;32m   1471\u001b[0m         \u001b[1;32mif\u001b[0m \u001b[0misinstance\u001b[0m\u001b[1;33m(\u001b[0m\u001b[0mmodel\u001b[0m\u001b[1;33m[\u001b[0m\u001b[0mvariable_name\u001b[0m\u001b[1;33m]\u001b[0m\u001b[1;33m,\u001b[0m \u001b[0mSharedVariable\u001b[0m\u001b[1;33m)\u001b[0m\u001b[1;33m:\u001b[0m\u001b[1;33m\u001b[0m\u001b[1;33m\u001b[0m\u001b[0m\n\u001b[0;32m   1472\u001b[0m             \u001b[1;32mif\u001b[0m \u001b[0misinstance\u001b[0m\u001b[1;33m(\u001b[0m\u001b[0mnew_value\u001b[0m\u001b[1;33m,\u001b[0m \u001b[0mlist\u001b[0m\u001b[1;33m)\u001b[0m\u001b[1;33m:\u001b[0m\u001b[1;33m\u001b[0m\u001b[1;33m\u001b[0m\u001b[0m\n",
      "\u001b[1;31mAttributeError\u001b[0m: 'str' object has no attribute 'items'"
     ]
    }
   ],
   "source": [
    "with model:\n",
    "    pm.set_data('v')"
   ]
  },
  {
   "cell_type": "code",
   "execution_count": 147,
   "id": "694aec70",
   "metadata": {
    "scrolled": true
   },
   "outputs": [
    {
     "ename": "TypeError",
     "evalue": "('Expected an array-like object, but found a Variable: maybe you are trying to call a function on a (possibly shared) variable instead of a numeric array?', 'Container name \"v\"')",
     "output_type": "error",
     "traceback": [
      "\u001b[1;31m---------------------------------------------------------------------------\u001b[0m",
      "\u001b[1;31mNotImplementedError\u001b[0m                       Traceback (most recent call last)",
      "\u001b[1;32mD:\\py-related\\anaconda\\envs\\mypm3env\\lib\\site-packages\\theano\\link\\basic.py\u001b[0m in \u001b[0;36m__set__\u001b[1;34m(self, value)\u001b[0m\n\u001b[0;32m     81\u001b[0m                 \u001b[1;31m# Use in-place filtering when/if possible\u001b[0m\u001b[1;33m\u001b[0m\u001b[1;33m\u001b[0m\u001b[1;33m\u001b[0m\u001b[0m\n\u001b[1;32m---> 82\u001b[1;33m                 self.storage[0] = self.type.filter_inplace(\n\u001b[0m\u001b[0;32m     83\u001b[0m                     \u001b[0mvalue\u001b[0m\u001b[1;33m,\u001b[0m \u001b[0mself\u001b[0m\u001b[1;33m.\u001b[0m\u001b[0mstorage\u001b[0m\u001b[1;33m[\u001b[0m\u001b[1;36m0\u001b[0m\u001b[1;33m]\u001b[0m\u001b[1;33m,\u001b[0m \u001b[1;33m**\u001b[0m\u001b[0mkwargs\u001b[0m\u001b[1;33m\u001b[0m\u001b[1;33m\u001b[0m\u001b[0m\n",
      "\u001b[1;32mD:\\py-related\\anaconda\\envs\\mypm3env\\lib\\site-packages\\theano\\graph\\type.py\u001b[0m in \u001b[0;36mfilter_inplace\u001b[1;34m(self, value, storage, strict, allow_downcast)\u001b[0m\n\u001b[0;32m     94\u001b[0m         \"\"\"\n\u001b[1;32m---> 95\u001b[1;33m         \u001b[1;32mraise\u001b[0m \u001b[0mNotImplementedError\u001b[0m\u001b[1;33m(\u001b[0m\u001b[1;33m)\u001b[0m\u001b[1;33m\u001b[0m\u001b[1;33m\u001b[0m\u001b[0m\n\u001b[0m\u001b[0;32m     96\u001b[0m \u001b[1;33m\u001b[0m\u001b[0m\n",
      "\u001b[1;31mNotImplementedError\u001b[0m: ",
      "\nDuring handling of the above exception, another exception occurred:\n",
      "\u001b[1;31mTypeError\u001b[0m                                 Traceback (most recent call last)",
      "\u001b[1;32m<ipython-input-147-4355e27020ff>\u001b[0m in \u001b[0;36m<module>\u001b[1;34m\u001b[0m\n\u001b[0;32m     11\u001b[0m \u001b[1;33m\u001b[0m\u001b[0m\n\u001b[0;32m     12\u001b[0m         \u001b[0mpe\u001b[0m\u001b[1;33m[\u001b[0m\u001b[0mt\u001b[0m\u001b[1;33m]\u001b[0m \u001b[1;33m=\u001b[0m \u001b[0mreward\u001b[0m\u001b[1;33m[\u001b[0m\u001b[0mt\u001b[0m\u001b[1;33m]\u001b[0m \u001b[1;33m-\u001b[0m \u001b[0mv\u001b[0m\u001b[1;33m[\u001b[0m\u001b[0mchoice\u001b[0m\u001b[1;33m[\u001b[0m\u001b[0mt\u001b[0m\u001b[1;33m]\u001b[0m\u001b[1;33m]\u001b[0m\u001b[1;33m\u001b[0m\u001b[1;33m\u001b[0m\u001b[0m\n\u001b[1;32m---> 13\u001b[1;33m         \u001b[0mpm\u001b[0m\u001b[1;33m.\u001b[0m\u001b[0mset_data\u001b[0m\u001b[1;33m(\u001b[0m\u001b[1;33m{\u001b[0m\u001b[1;34m'v'\u001b[0m\u001b[1;33m:\u001b[0m \u001b[0mv\u001b[0m\u001b[1;33m}\u001b[0m\u001b[1;33m)\u001b[0m\u001b[1;33m\u001b[0m\u001b[1;33m\u001b[0m\u001b[0m\n\u001b[0m\u001b[0;32m     14\u001b[0m \u001b[1;33m\u001b[0m\u001b[0m\n\u001b[0;32m     15\u001b[0m \u001b[1;33m\u001b[0m\u001b[0m\n",
      "\u001b[1;32mD:\\py-related\\anaconda\\envs\\mypm3env\\lib\\site-packages\\pymc3\\model.py\u001b[0m in \u001b[0;36mset_data\u001b[1;34m(new_data, model)\u001b[0m\n\u001b[0;32m   1472\u001b[0m             \u001b[1;32mif\u001b[0m \u001b[0misinstance\u001b[0m\u001b[1;33m(\u001b[0m\u001b[0mnew_value\u001b[0m\u001b[1;33m,\u001b[0m \u001b[0mlist\u001b[0m\u001b[1;33m)\u001b[0m\u001b[1;33m:\u001b[0m\u001b[1;33m\u001b[0m\u001b[1;33m\u001b[0m\u001b[0m\n\u001b[0;32m   1473\u001b[0m                 \u001b[0mnew_value\u001b[0m \u001b[1;33m=\u001b[0m \u001b[0mnp\u001b[0m\u001b[1;33m.\u001b[0m\u001b[0marray\u001b[0m\u001b[1;33m(\u001b[0m\u001b[0mnew_value\u001b[0m\u001b[1;33m)\u001b[0m\u001b[1;33m\u001b[0m\u001b[1;33m\u001b[0m\u001b[0m\n\u001b[1;32m-> 1474\u001b[1;33m             \u001b[0mmodel\u001b[0m\u001b[1;33m[\u001b[0m\u001b[0mvariable_name\u001b[0m\u001b[1;33m]\u001b[0m\u001b[1;33m.\u001b[0m\u001b[0mset_value\u001b[0m\u001b[1;33m(\u001b[0m\u001b[0mpandas_to_array\u001b[0m\u001b[1;33m(\u001b[0m\u001b[0mnew_value\u001b[0m\u001b[1;33m)\u001b[0m\u001b[1;33m)\u001b[0m\u001b[1;33m\u001b[0m\u001b[1;33m\u001b[0m\u001b[0m\n\u001b[0m\u001b[0;32m   1475\u001b[0m         \u001b[1;32melse\u001b[0m\u001b[1;33m:\u001b[0m\u001b[1;33m\u001b[0m\u001b[1;33m\u001b[0m\u001b[0m\n\u001b[0;32m   1476\u001b[0m             message = (\n",
      "\u001b[1;32mD:\\py-related\\anaconda\\envs\\mypm3env\\lib\\site-packages\\theano\\compile\\sharedvalue.py\u001b[0m in \u001b[0;36mset_value\u001b[1;34m(self, new_value, borrow)\u001b[0m\n\u001b[0;32m    147\u001b[0m             \u001b[0mself\u001b[0m\u001b[1;33m.\u001b[0m\u001b[0mcontainer\u001b[0m\u001b[1;33m.\u001b[0m\u001b[0mvalue\u001b[0m \u001b[1;33m=\u001b[0m \u001b[0mnew_value\u001b[0m\u001b[1;33m\u001b[0m\u001b[1;33m\u001b[0m\u001b[0m\n\u001b[0;32m    148\u001b[0m         \u001b[1;32melse\u001b[0m\u001b[1;33m:\u001b[0m\u001b[1;33m\u001b[0m\u001b[1;33m\u001b[0m\u001b[0m\n\u001b[1;32m--> 149\u001b[1;33m             \u001b[0mself\u001b[0m\u001b[1;33m.\u001b[0m\u001b[0mcontainer\u001b[0m\u001b[1;33m.\u001b[0m\u001b[0mvalue\u001b[0m \u001b[1;33m=\u001b[0m \u001b[0mcopy\u001b[0m\u001b[1;33m.\u001b[0m\u001b[0mdeepcopy\u001b[0m\u001b[1;33m(\u001b[0m\u001b[0mnew_value\u001b[0m\u001b[1;33m)\u001b[0m\u001b[1;33m\u001b[0m\u001b[1;33m\u001b[0m\u001b[0m\n\u001b[0m\u001b[0;32m    150\u001b[0m \u001b[1;33m\u001b[0m\u001b[0m\n\u001b[0;32m    151\u001b[0m     \u001b[1;32mdef\u001b[0m \u001b[0mget_test_value\u001b[0m\u001b[1;33m(\u001b[0m\u001b[0mself\u001b[0m\u001b[1;33m)\u001b[0m\u001b[1;33m:\u001b[0m\u001b[1;33m\u001b[0m\u001b[1;33m\u001b[0m\u001b[0m\n",
      "\u001b[1;32mD:\\py-related\\anaconda\\envs\\mypm3env\\lib\\site-packages\\theano\\link\\basic.py\u001b[0m in \u001b[0;36m__set__\u001b[1;34m(self, value)\u001b[0m\n\u001b[0;32m     84\u001b[0m                 )\n\u001b[0;32m     85\u001b[0m             \u001b[1;32mexcept\u001b[0m \u001b[0mNotImplementedError\u001b[0m\u001b[1;33m:\u001b[0m\u001b[1;33m\u001b[0m\u001b[1;33m\u001b[0m\u001b[0m\n\u001b[1;32m---> 86\u001b[1;33m                 \u001b[0mself\u001b[0m\u001b[1;33m.\u001b[0m\u001b[0mstorage\u001b[0m\u001b[1;33m[\u001b[0m\u001b[1;36m0\u001b[0m\u001b[1;33m]\u001b[0m \u001b[1;33m=\u001b[0m \u001b[0mself\u001b[0m\u001b[1;33m.\u001b[0m\u001b[0mtype\u001b[0m\u001b[1;33m.\u001b[0m\u001b[0mfilter\u001b[0m\u001b[1;33m(\u001b[0m\u001b[0mvalue\u001b[0m\u001b[1;33m,\u001b[0m \u001b[1;33m**\u001b[0m\u001b[0mkwargs\u001b[0m\u001b[1;33m)\u001b[0m\u001b[1;33m\u001b[0m\u001b[1;33m\u001b[0m\u001b[0m\n\u001b[0m\u001b[0;32m     87\u001b[0m \u001b[1;33m\u001b[0m\u001b[0m\n\u001b[0;32m     88\u001b[0m         \u001b[1;32mexcept\u001b[0m \u001b[0mException\u001b[0m \u001b[1;32mas\u001b[0m \u001b[0me\u001b[0m\u001b[1;33m:\u001b[0m\u001b[1;33m\u001b[0m\u001b[1;33m\u001b[0m\u001b[0m\n",
      "\u001b[1;32mD:\\py-related\\anaconda\\envs\\mypm3env\\lib\\site-packages\\theano\\tensor\\type.py\u001b[0m in \u001b[0;36mfilter\u001b[1;34m(self, data, strict, allow_downcast)\u001b[0m\n\u001b[0;32m     90\u001b[0m         \u001b[1;31m# input (typical mistake, especially with shared variables).\u001b[0m\u001b[1;33m\u001b[0m\u001b[1;33m\u001b[0m\u001b[1;33m\u001b[0m\u001b[0m\n\u001b[0;32m     91\u001b[0m         \u001b[1;32mif\u001b[0m \u001b[0misinstance\u001b[0m\u001b[1;33m(\u001b[0m\u001b[0mdata\u001b[0m\u001b[1;33m,\u001b[0m \u001b[0mVariable\u001b[0m\u001b[1;33m)\u001b[0m\u001b[1;33m:\u001b[0m\u001b[1;33m\u001b[0m\u001b[1;33m\u001b[0m\u001b[0m\n\u001b[1;32m---> 92\u001b[1;33m             raise TypeError(\n\u001b[0m\u001b[0;32m     93\u001b[0m                 \u001b[1;34m\"Expected an array-like object, but found a Variable: \"\u001b[0m\u001b[1;33m\u001b[0m\u001b[1;33m\u001b[0m\u001b[0m\n\u001b[0;32m     94\u001b[0m                 \u001b[1;34m\"maybe you are trying to call a function on a (possibly \"\u001b[0m\u001b[1;33m\u001b[0m\u001b[1;33m\u001b[0m\u001b[0m\n",
      "\u001b[1;31mTypeError\u001b[0m: ('Expected an array-like object, but found a Variable: maybe you are trying to call a function on a (possibly shared) variable instead of a numeric array?', 'Container name \"v\"')"
     ]
    }
   ],
   "source": [
    "# dobra, tutaj teraz trzeba bedzie rozbic ten data chyba na dwa. Chyba ze da sie jakos wybrac konkretna czesc data ale raczej nie.\n",
    "# wiec trzeba bedzie zrobic IFa i zmieniac te V warunkowo\n",
    "with pm.Model() as model: \n",
    "    alpha = pm.Uniform('alpha', 0, 1)   \n",
    "    tau = pm.Uniform('tau', 0, 3, testval=1)\n",
    "    \n",
    "    v = pm.Data('v', v_)\n",
    "    \n",
    "    for t in range(nTrials):\n",
    "        sm = softmax(tau, v)\n",
    "        p = pm.Categorical(f'cat{t}', sm, observed=choice[t])\n",
    "    \n",
    "        pe[t] = reward[t] - v[choice[t]]\n",
    "        pm.set_data({'v': v})\n",
    "        \n",
    "        \n",
    "    pm.sample(1000, tune=1000)"
   ]
  },
  {
   "cell_type": "code",
   "execution_count": 39,
   "id": "5651ed99",
   "metadata": {},
   "outputs": [
    {
     "data": {
      "text/plain": [
       "array([1, 1, 1, 0, 1, 1, 1, 0, 0, 1], dtype=int64)"
      ]
     },
     "execution_count": 39,
     "metadata": {},
     "output_type": "execute_result"
    }
   ],
   "source": [
    "a.message"
   ]
  },
  {
   "cell_type": "code",
   "execution_count": null,
   "id": "330f7e32",
   "metadata": {},
   "outputs": [],
   "source": []
  },
  {
   "cell_type": "code",
   "execution_count": null,
   "id": "899e37ff",
   "metadata": {},
   "outputs": [],
   "source": []
  },
  {
   "cell_type": "code",
   "execution_count": null,
   "id": "aef98aa3",
   "metadata": {},
   "outputs": [],
   "source": []
  },
  {
   "cell_type": "code",
   "execution_count": null,
   "id": "d6fe0bd1",
   "metadata": {},
   "outputs": [],
   "source": []
  },
  {
   "cell_type": "code",
   "execution_count": 68,
   "id": "518e06e1",
   "metadata": {},
   "outputs": [
    {
     "data": {
      "text/html": [
       "<div>\n",
       "<style scoped>\n",
       "    .dataframe tbody tr th:only-of-type {\n",
       "        vertical-align: middle;\n",
       "    }\n",
       "\n",
       "    .dataframe tbody tr th {\n",
       "        vertical-align: top;\n",
       "    }\n",
       "\n",
       "    .dataframe thead th {\n",
       "        text-align: right;\n",
       "    }\n",
       "</style>\n",
       "<table border=\"1\" class=\"dataframe\">\n",
       "  <thead>\n",
       "    <tr style=\"text-align: right;\">\n",
       "      <th></th>\n",
       "      <th>Berlin</th>\n",
       "      <th>San Marino</th>\n",
       "      <th>Paris</th>\n",
       "    </tr>\n",
       "    <tr>\n",
       "      <th>date</th>\n",
       "      <th></th>\n",
       "      <th></th>\n",
       "      <th></th>\n",
       "    </tr>\n",
       "  </thead>\n",
       "  <tbody>\n",
       "    <tr>\n",
       "      <th>2020-05-01</th>\n",
       "      <td>14.708568</td>\n",
       "      <td>18.905539</td>\n",
       "      <td>15.230894</td>\n",
       "    </tr>\n",
       "    <tr>\n",
       "      <th>2020-05-02</th>\n",
       "      <td>13.729669</td>\n",
       "      <td>17.359776</td>\n",
       "      <td>16.461333</td>\n",
       "    </tr>\n",
       "    <tr>\n",
       "      <th>2020-05-03</th>\n",
       "      <td>15.919799</td>\n",
       "      <td>17.766166</td>\n",
       "      <td>15.369512</td>\n",
       "    </tr>\n",
       "    <tr>\n",
       "      <th>2020-05-04</th>\n",
       "      <td>17.294473</td>\n",
       "      <td>17.685680</td>\n",
       "      <td>14.724499</td>\n",
       "    </tr>\n",
       "    <tr>\n",
       "      <th>2020-05-05</th>\n",
       "      <td>14.661021</td>\n",
       "      <td>18.648179</td>\n",
       "      <td>17.882056</td>\n",
       "    </tr>\n",
       "  </tbody>\n",
       "</table>\n",
       "</div>"
      ],
      "text/plain": [
       "               Berlin  San Marino      Paris\n",
       "date                                        \n",
       "2020-05-01  14.708568   18.905539  15.230894\n",
       "2020-05-02  13.729669   17.359776  16.461333\n",
       "2020-05-03  15.919799   17.766166  15.369512\n",
       "2020-05-04  17.294473   17.685680  14.724499\n",
       "2020-05-05  14.661021   18.648179  17.882056"
      ]
     },
     "execution_count": 68,
     "metadata": {},
     "output_type": "execute_result"
    }
   ],
   "source": [
    "RANDOM_SEED = 8927\n",
    "np.random.seed(RANDOM_SEED)\n",
    "\n",
    "df_data = pd.DataFrame(columns=[\"date\"]).set_index(\"date\")\n",
    "dates = pd.date_range(start=\"2020-05-01\", end=\"2020-05-20\")\n",
    "\n",
    "for city, mu in {\"Berlin\": 15, \"San Marino\": 18, \"Paris\": 16}.items():\n",
    "    df_data[city] = np.random.normal(loc=mu, size=len(dates))\n",
    "\n",
    "df_data.index = dates\n",
    "df_data.index.name = \"date\"\n",
    "df_data.head()"
   ]
  },
  {
   "cell_type": "code",
   "execution_count": 71,
   "id": "e643a52e",
   "metadata": {},
   "outputs": [],
   "source": [
    "# The data has two dimensions: date and city\n",
    "coords = {\"date\": df_data.index, \"city\": df_data.columns}"
   ]
  },
  {
   "cell_type": "code",
   "execution_count": 72,
   "id": "d876ab44",
   "metadata": {},
   "outputs": [
    {
     "ename": "ValueError",
     "evalue": "Unknown dimension name 'city'. All dimension names must be specified in the `coords` argument of the model or through a pm.Data variable.",
     "output_type": "error",
     "traceback": [
      "\u001b[1;31m---------------------------------------------------------------------------\u001b[0m",
      "\u001b[1;31mValueError\u001b[0m                                Traceback (most recent call last)",
      "\u001b[1;32m<ipython-input-72-9c945af7f141>\u001b[0m in \u001b[0;36m<module>\u001b[1;34m\u001b[0m\n\u001b[0;32m      1\u001b[0m \u001b[1;32mwith\u001b[0m \u001b[0mpm\u001b[0m\u001b[1;33m.\u001b[0m\u001b[0mModel\u001b[0m\u001b[1;33m(\u001b[0m\u001b[0mcoords\u001b[0m\u001b[1;33m=\u001b[0m\u001b[0mcoords\u001b[0m\u001b[1;33m)\u001b[0m \u001b[1;32mas\u001b[0m \u001b[0mmodel\u001b[0m\u001b[1;33m:\u001b[0m\u001b[1;33m\u001b[0m\u001b[1;33m\u001b[0m\u001b[0m\n\u001b[0;32m      2\u001b[0m     \u001b[0meurope_mean\u001b[0m \u001b[1;33m=\u001b[0m \u001b[0mpm\u001b[0m\u001b[1;33m.\u001b[0m\u001b[0mNormal\u001b[0m\u001b[1;33m(\u001b[0m\u001b[1;34m\"europe_mean_temp\"\u001b[0m\u001b[1;33m,\u001b[0m \u001b[0mmu\u001b[0m\u001b[1;33m=\u001b[0m\u001b[1;36m15.0\u001b[0m\u001b[1;33m,\u001b[0m \u001b[0msd\u001b[0m\u001b[1;33m=\u001b[0m\u001b[1;36m3.0\u001b[0m\u001b[1;33m)\u001b[0m\u001b[1;33m\u001b[0m\u001b[1;33m\u001b[0m\u001b[0m\n\u001b[1;32m----> 3\u001b[1;33m     \u001b[0mcity_offset\u001b[0m \u001b[1;33m=\u001b[0m \u001b[0mpm\u001b[0m\u001b[1;33m.\u001b[0m\u001b[0mNormal\u001b[0m\u001b[1;33m(\u001b[0m\u001b[1;34m\"city_offset\"\u001b[0m\u001b[1;33m,\u001b[0m \u001b[0mmu\u001b[0m\u001b[1;33m=\u001b[0m\u001b[1;36m0.0\u001b[0m\u001b[1;33m,\u001b[0m \u001b[0msd\u001b[0m\u001b[1;33m=\u001b[0m\u001b[1;36m3.0\u001b[0m\u001b[1;33m,\u001b[0m \u001b[0mdims\u001b[0m\u001b[1;33m=\u001b[0m\u001b[1;34m\"city\"\u001b[0m\u001b[1;33m)\u001b[0m\u001b[1;33m\u001b[0m\u001b[1;33m\u001b[0m\u001b[0m\n\u001b[0m\u001b[0;32m      4\u001b[0m     \u001b[0mcity_temperature\u001b[0m \u001b[1;33m=\u001b[0m \u001b[0mpm\u001b[0m\u001b[1;33m.\u001b[0m\u001b[0mDeterministic\u001b[0m\u001b[1;33m(\u001b[0m\u001b[1;34m\"city_temperature\"\u001b[0m\u001b[1;33m,\u001b[0m \u001b[0meurope_mean\u001b[0m \u001b[1;33m+\u001b[0m \u001b[0mcity_offset\u001b[0m\u001b[1;33m,\u001b[0m \u001b[0mdims\u001b[0m\u001b[1;33m=\u001b[0m\u001b[1;34m\"city\"\u001b[0m\u001b[1;33m)\u001b[0m\u001b[1;33m\u001b[0m\u001b[1;33m\u001b[0m\u001b[0m\n\u001b[0;32m      5\u001b[0m \u001b[1;33m\u001b[0m\u001b[0m\n",
      "\u001b[1;32mD:\\py-related\\anaconda\\envs\\mypm3env\\lib\\site-packages\\pymc3\\distributions\\distribution.py\u001b[0m in \u001b[0;36m__new__\u001b[1;34m(cls, name, *args, **kwargs)\u001b[0m\n\u001b[0;32m    107\u001b[0m             \u001b[1;32mif\u001b[0m \u001b[0misinstance\u001b[0m\u001b[1;33m(\u001b[0m\u001b[0mdims\u001b[0m\u001b[1;33m,\u001b[0m \u001b[0mstring_types\u001b[0m\u001b[1;33m)\u001b[0m\u001b[1;33m:\u001b[0m\u001b[1;33m\u001b[0m\u001b[1;33m\u001b[0m\u001b[0m\n\u001b[0;32m    108\u001b[0m                 \u001b[0mdims\u001b[0m \u001b[1;33m=\u001b[0m \u001b[1;33m(\u001b[0m\u001b[0mdims\u001b[0m\u001b[1;33m,\u001b[0m\u001b[1;33m)\u001b[0m\u001b[1;33m\u001b[0m\u001b[1;33m\u001b[0m\u001b[0m\n\u001b[1;32m--> 109\u001b[1;33m             \u001b[0mshape\u001b[0m \u001b[1;33m=\u001b[0m \u001b[0mmodel\u001b[0m\u001b[1;33m.\u001b[0m\u001b[0mshape_from_dims\u001b[0m\u001b[1;33m(\u001b[0m\u001b[0mdims\u001b[0m\u001b[1;33m)\u001b[0m\u001b[1;33m\u001b[0m\u001b[1;33m\u001b[0m\u001b[0m\n\u001b[0m\u001b[0;32m    110\u001b[0m \u001b[1;33m\u001b[0m\u001b[0m\n\u001b[0;32m    111\u001b[0m         \u001b[1;31m# failsafe against 0-shapes\u001b[0m\u001b[1;33m\u001b[0m\u001b[1;33m\u001b[0m\u001b[1;33m\u001b[0m\u001b[0m\n",
      "\u001b[1;32mD:\\py-related\\anaconda\\envs\\mypm3env\\lib\\site-packages\\pymc3\\model.py\u001b[0m in \u001b[0;36mshape_from_dims\u001b[1;34m(self, dims)\u001b[0m\n\u001b[0;32m   1087\u001b[0m         \u001b[1;32mfor\u001b[0m \u001b[0mdim\u001b[0m \u001b[1;32min\u001b[0m \u001b[0mdims\u001b[0m\u001b[1;33m:\u001b[0m\u001b[1;33m\u001b[0m\u001b[1;33m\u001b[0m\u001b[0m\n\u001b[0;32m   1088\u001b[0m             \u001b[1;32mif\u001b[0m \u001b[0mdim\u001b[0m \u001b[1;32mnot\u001b[0m \u001b[1;32min\u001b[0m \u001b[0mself\u001b[0m\u001b[1;33m.\u001b[0m\u001b[0mcoords\u001b[0m\u001b[1;33m:\u001b[0m\u001b[1;33m\u001b[0m\u001b[1;33m\u001b[0m\u001b[0m\n\u001b[1;32m-> 1089\u001b[1;33m                 raise ValueError(\n\u001b[0m\u001b[0;32m   1090\u001b[0m                     \u001b[1;34m\"Unknown dimension name '%s'. All dimension \"\u001b[0m\u001b[1;33m\u001b[0m\u001b[1;33m\u001b[0m\u001b[0m\n\u001b[0;32m   1091\u001b[0m                     \u001b[1;34m\"names must be specified in the `coords` \"\u001b[0m\u001b[1;33m\u001b[0m\u001b[1;33m\u001b[0m\u001b[0m\n",
      "\u001b[1;31mValueError\u001b[0m: Unknown dimension name 'city'. All dimension names must be specified in the `coords` argument of the model or through a pm.Data variable."
     ]
    }
   ],
   "source": [
    "with pm.Model(coords=coords) as model:\n",
    "    europe_mean = pm.Normal(\"europe_mean_temp\", mu=15.0, sd=3.0)\n",
    "    city_offset = pm.Normal(\"city_offset\", mu=0.0, sd=3.0, dims=\"city\")\n",
    "    city_temperature = pm.Deterministic(\"city_temperature\", europe_mean + city_offset, dims=\"city\")\n",
    "\n",
    "    data = pm.Data(\"data\", df_data, dims=(\"date\", \"city\"))\n",
    "    _ = pm.Normal(\"likelihood\", mu=city_temperature, sd=0.5, observed=data)\n",
    "\n",
    "    idata = pm.sample(\n",
    "        2000,\n",
    "        tune=2000,\n",
    "        target_accept=0.85,\n",
    "        return_inferencedata=True,\n",
    "        random_seed=RANDOM_SEED,\n",
    "    )"
   ]
  },
  {
   "cell_type": "code",
   "execution_count": null,
   "id": "a053549b",
   "metadata": {},
   "outputs": [],
   "source": []
  }
 ],
 "metadata": {
  "kernelspec": {
   "display_name": "mypm3env",
   "language": "python",
   "name": "mypm3env"
  },
  "language_info": {
   "codemirror_mode": {
    "name": "ipython",
    "version": 3
   },
   "file_extension": ".py",
   "mimetype": "text/x-python",
   "name": "python",
   "nbconvert_exporter": "python",
   "pygments_lexer": "ipython3",
   "version": "3.8.10"
  }
 },
 "nbformat": 4,
 "nbformat_minor": 5
}
