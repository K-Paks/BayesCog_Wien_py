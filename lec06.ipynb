{
 "cells": [
  {
   "cell_type": "code",
   "execution_count": 10,
   "id": "22b5e141",
   "metadata": {},
   "outputs": [],
   "source": [
    "import numpy as np\n",
    "import pandas as pd\n",
    "import pymc3 as pm\n",
    "import matplotlib.pyplot as plt\n",
    "from scipy.stats import binom"
   ]
  },
  {
   "cell_type": "markdown",
   "id": "cc7cdd11",
   "metadata": {},
   "source": [
    "### Binomial Model - Grid Approximation\n",
    "##### 34:00 - 41:00"
   ]
  },
  {
   "cell_type": "code",
   "execution_count": 6,
   "id": "7c6221c1",
   "metadata": {},
   "outputs": [],
   "source": [
    "theta_start = 0\n",
    "theta_end = 1\n",
    "n_grid = 20\n",
    "w = 6\n",
    "N = 9"
   ]
  },
  {
   "cell_type": "code",
   "execution_count": 43,
   "id": "d679dc65",
   "metadata": {},
   "outputs": [],
   "source": [
    "# define grid\n",
    "theta_grid = np.linspace(start=theta_start, stop=theta_end, num=n_grid)\n",
    "\n",
    "# define prior\n",
    "likelihood = binom.pmf(k=w, n=N, p=theta_grid)"
   ]
  },
  {
   "cell_type": "code",
   "execution_count": 44,
   "id": "53e4cf60",
   "metadata": {},
   "outputs": [
    {
     "data": {
      "text/plain": [
       "array([0.00000000e+00, 1.51814898e-06, 8.18509295e-05, 7.77292279e-04,\n",
       "       3.59857537e-03, 1.11609461e-02, 2.66829865e-02, 5.29210991e-02,\n",
       "       9.08269760e-02, 1.38341326e-01, 1.89768623e-01, 2.36114658e-01,\n",
       "       2.66611252e-01, 2.71400562e-01, 2.45005089e-01, 1.89768623e-01,\n",
       "       1.17918118e-01, 5.02667021e-02, 8.85384487e-03, 0.00000000e+00])"
      ]
     },
     "execution_count": 44,
     "metadata": {},
     "output_type": "execute_result"
    }
   ],
   "source": [
    "likelihood"
   ]
  },
  {
   "cell_type": "code",
   "execution_count": 45,
   "id": "e01fde31",
   "metadata": {},
   "outputs": [],
   "source": [
    "prior = np.ones(n_grid)\n",
    "unstd_posterior = likelihood * prior"
   ]
  },
  {
   "cell_type": "code",
   "execution_count": 46,
   "id": "4773670b",
   "metadata": {},
   "outputs": [],
   "source": [
    "posterior = unstd_posterior / sum(unstd_posterior)"
   ]
  },
  {
   "cell_type": "code",
   "execution_count": 50,
   "id": "1ba9f4ff",
   "metadata": {},
   "outputs": [
    {
     "data": {
      "image/png": "[encoded data removed]",
      "text/plain": [
       "<Figure size 432x288 with 1 Axes>"
      ]
     },
     "metadata": {
      "needs_background": "light"
     },
     "output_type": "display_data"
    }
   ],
   "source": [
    "plt.plot(theta_grid, posterior, '-bo')\n",
    "plt.show()"
   ]
  }
 ],
 "metadata": {
  "kernelspec": {
   "display_name": "mypm3env",
   "language": "python",
   "name": "mypm3env"
  },
  "language_info": {
   "codemirror_mode": {
    "name": "ipython",
    "version": 3
   },
   "file_extension": ".py",
   "mimetype": "text/x-python",
   "name": "python",
   "nbconvert_exporter": "python",
   "pygments_lexer": "ipython3",
   "version": "3.8.10"
  }
 },
 "nbformat": 4,
 "nbformat_minor": 5
}
