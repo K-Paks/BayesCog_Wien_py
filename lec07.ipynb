{
 "cells": [
  {
   "cell_type": "code",
   "execution_count": 1,
   "id": "45271ae4",
   "metadata": {},
   "outputs": [],
   "source": [
    "%config IPCompleter.greedy=True\n",
    "%config Completer.use_jedi = False"
   ]
  },
  {
   "cell_type": "code",
   "execution_count": 63,
   "id": "cd5b4a55",
   "metadata": {},
   "outputs": [],
   "source": [
    "from math import floor\n",
    "\n",
    "import numpy as np\n",
    "import pandas as pd\n",
    "import pymc3 as pm\n",
    "import matplotlib.pyplot as plt\n",
    "from scipy.stats import binom\n",
    "import theano.tensor as tt"
   ]
  },
  {
   "cell_type": "code",
   "execution_count": 5,
   "id": "e082854d",
   "metadata": {},
   "outputs": [],
   "source": [
    "w = 6\n",
    "N = 9\n",
    "\n",
    "nIter = 2000\n",
    "nChains = 4\n",
    "nWarmup = floor(nIter/2)"
   ]
  },
  {
   "cell_type": "code",
   "execution_count": 90,
   "id": "f15fa683",
   "metadata": {},
   "outputs": [
    {
     "name": "stderr",
     "output_type": "stream",
     "text": [
      "Multiprocess sampling (4 chains in 4 jobs)\n",
      "CompoundStep\n",
      ">Metropolis: [theta]\n",
      ">BinaryGibbsMetropolis: [W]\n"
     ]
    },
    {
     "data": {
      "text/html": [
       "\n",
       "    <div>\n",
       "        <style>\n",
       "            /* Turns off some styling */\n",
       "            progress {\n",
       "                /* gets rid of default border in Firefox and Opera. */\n",
       "                border: none;\n",
       "                /* Needs to be in here for Safari polyfill so background images work as expected. */\n",
       "                background-size: auto;\n",
       "            }\n",
       "            .progress-bar-interrupted, .progress-bar-interrupted::-webkit-progress-bar {\n",
       "                background: #F44336;\n",
       "            }\n",
       "        </style>\n",
       "      <progress value='12000' class='' max='12000' style='width:300px; height:20px; vertical-align: middle;'></progress>\n",
       "      100.00% [12000/12000 00:10<00:00 Sampling 4 chains, 0 divergences]\n",
       "    </div>\n",
       "    "
      ],
      "text/plain": [
       "<IPython.core.display.HTML object>"
      ]
     },
     "metadata": {},
     "output_type": "display_data"
    },
    {
     "name": "stderr",
     "output_type": "stream",
     "text": [
      "Sampling 4 chains for 1_000 tune and 2_000 draw iterations (4_000 + 8_000 draws total) took 35 seconds.\n",
      "The number of effective samples is smaller than 25% for some parameters.\n"
     ]
    }
   ],
   "source": [
    "with pm.Model() as model:\n",
    "    theta = pm.Uniform('theta', 0, 1)\n",
    "    \n",
    "    W = pm.Bernoulli('W', theta, shape=N, testval=np.random.binomial(1, 0.5, N))\n",
    "    \n",
    "    det = pm.Deterministic('det', tt.sum(W) / float(N))\n",
    "\n",
    "    globe = pm.Binomial('globe', N, det, observed=w)\n",
    "    \n",
    "    step = pm.Metropolis(vars=[theta])\n",
    "    trace = pm.sample(nIter, step=step, return_inferencedata=False)\n",
    "    burned_trace = trace[nWarmup:]"
   ]
  },
  {
   "cell_type": "code",
   "execution_count": 92,
   "id": "ef15e2be",
   "metadata": {},
   "outputs": [
    {
     "data": {
      "text/plain": [
       "[]"
      ]
     },
     "execution_count": 92,
     "metadata": {},
     "output_type": "execute_result"
    },
    {
     "data": {
      "image/png": "[encoded data removed]",
      "text/plain": [
       "<Figure size 432x288 with 1 Axes>"
      ]
     },
     "metadata": {
      "needs_background": "light"
     },
     "output_type": "display_data"
    }
   ],
   "source": [
    "plt.hist(burned_trace['theta'])\n",
    "plt.plot()"
   ]
  },
  {
   "cell_type": "code",
   "execution_count": 93,
   "id": "f0fbacd8",
   "metadata": {},
   "outputs": [
    {
     "name": "stdout",
     "output_type": "stream",
     "text": [
      "theta_interval__ ~ TransformedDistribution\n",
      "               W ~ Bernoulli\n",
      "           theta ~ Uniform\n",
      "             det ~ Deterministic\n",
      "           globe ~ Binomial\n"
     ]
    }
   ],
   "source": [
    "print(model)"
   ]
  }
 ],
 "metadata": {
  "kernelspec": {
   "display_name": "mypm3env",
   "language": "python",
   "name": "mypm3env"
  },
  "language_info": {
   "codemirror_mode": {
    "name": "ipython",
    "version": 3
   },
   "file_extension": ".py",
   "mimetype": "text/x-python",
   "name": "python",
   "nbconvert_exporter": "python",
   "pygments_lexer": "ipython3",
   "version": "3.8.10"
  }
 },
 "nbformat": 4,
 "nbformat_minor": 5
}
