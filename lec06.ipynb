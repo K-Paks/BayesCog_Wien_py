{
 "cells": [
  {
   "cell_type": "code",
   "execution_count": 10,
   "id": "776b92ae",
   "metadata": {},
   "outputs": [],
   "source": [
    "import numpy as np\n",
    "import pandas as pd\n",
    "import pymc3 as pm\n",
    "import matplotlib.pyplot as plt\n",
    "from scipy.stats import binom"
   ]
  },
  {
   "cell_type": "markdown",
   "id": "556b48f9",
   "metadata": {},
   "source": [
    "### Binomial Model - Grid Approximation\n",
    "##### 34:00 - 41:00"
   ]
  },
  {
   "cell_type": "code",
   "execution_count": 6,
   "id": "fa56866f",
   "metadata": {},
   "outputs": [],
   "source": [
    "theta_start = 0\n",
    "theta_end = 1\n",
    "n_grid = 20\n",
    "w = 6\n",
    "N = 9"
   ]
  },
  {
   "cell_type": "code",
   "execution_count": 7,
   "id": "bb716173",
   "metadata": {},
   "outputs": [],
   "source": [
    "theta_grid = np.linspace(start=theta_start, stop=theta_end, num=n_grid)"
   ]
  },
  {
   "cell_type": "code",
   "execution_count": 11,
   "id": "04112626",
   "metadata": {},
   "outputs": [],
   "source": [
    "likelihood = binom.pmf(k=w, n=N, p=theta_grid)"
   ]
  },
  {
   "cell_type": "code",
   "execution_count": 15,
   "id": "6a73fc9f",
   "metadata": {},
   "outputs": [],
   "source": [
    "prior = np.ones(n_grid)\n",
    "unstd_posterior = likelihood * prior"
   ]
  },
  {
   "cell_type": "code",
   "execution_count": null,
   "id": "d00315c5",
   "metadata": {},
   "outputs": [],
   "source": [
    "posterior = unst"
   ]
  }
 ],
 "metadata": {
  "kernelspec": {
   "display_name": "mypm3env",
   "language": "python",
   "name": "mypm3env"
  },
  "language_info": {
   "codemirror_mode": {
    "name": "ipython",
    "version": 3
   },
   "file_extension": ".py",
   "mimetype": "text/x-python",
   "name": "python",
   "nbconvert_exporter": "python",
   "pygments_lexer": "ipython3",
   "version": "3.8.10"
  }
 },
 "nbformat": 4,
 "nbformat_minor": 5
}
